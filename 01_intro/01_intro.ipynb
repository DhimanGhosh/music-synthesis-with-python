{
 "cells": [
  {
   "cell_type": "code",
   "execution_count": 1,
   "metadata": {},
   "outputs": [
    {
     "name": "stdout",
     "output_type": "stream",
     "text": [
      "pyo version 0.8.7 (uses single precision)\n",
      "Portmidi warning: no midi device found!\n",
      "Portmidi closed.\n"
     ]
    },
    {
     "data": {
      "text/plain": [
       "<pyolib.server.Server at 0x106cbc198>"
      ]
     },
     "execution_count": 1,
     "metadata": {},
     "output_type": "execute_result"
    }
   ],
   "source": [
    "from pyo import *\n",
    "s = Server().boot()\n",
    "s.start()"
   ]
  },
  {
   "cell_type": "code",
   "execution_count": 5,
   "metadata": {
    "collapsed": true
   },
   "outputs": [],
   "source": [
    "wav = SquareTable() \n",
    "beat = Metro(time=0.125, poly=7).play()\n",
    "envelope = CosTable([(0,0), (100,1), (500,.3), (8191,0)])\n",
    "amplitude = TrigEnv(beat, table=envelope, dur=0.25, mul=0.7)\n",
    "pitch = TrigXnoiseMidi(beat, dist=4, scale=0, mrange=(36, 62))\n",
    "\n",
    "oscillator = Osc(table=wav, freq=pitch, mul=amplitude).out()\n",
    "\n",
    "\n",
    "sig = LinTable([(0,20), (200,5), (1000,2), (8191,1)])\n",
    "metro_synth = Metro(time=0.125, poly=5).play()\n",
    "lfo = LFO(freq=1.2, sharp=0.2, type=4, mul=110, add=220)\n",
    "envelope_synth = TrigEnv(metro_synth, table=sig, dur=0.5)\n",
    "\n",
    "synth = FM(carrier=[220.5,220], ratio=[.2498,.2503], index=envelope_synth, mul=0.1).out()\n",
    "\n",
    "\n",
    "lfd = Sine([.4,.2], mul=.2, add=.5)\n",
    "\n",
    "synth_80 = SuperSaw(freq=220, detune=lfd, bal=1, mul=0.1).out()"
   ]
  },
  {
   "cell_type": "code",
   "execution_count": 3,
   "metadata": {},
   "outputs": [
    {
     "name": "stdout",
     "output_type": "stream",
     "text": [
      "Server already started!\n"
     ]
    },
    {
     "data": {
      "text/plain": [
       "<pyolib.server.Server at 0x106cbc198>"
      ]
     },
     "execution_count": 3,
     "metadata": {},
     "output_type": "execute_result"
    }
   ],
   "source": [
    "s.start()"
   ]
  },
  {
   "cell_type": "code",
   "execution_count": 6,
   "metadata": {
    "collapsed": true,
    "scrolled": true
   },
   "outputs": [],
   "source": [
    "s.stop()"
   ]
  },
  {
   "cell_type": "code",
   "execution_count": null,
   "metadata": {
    "collapsed": true
   },
   "outputs": [],
   "source": []
  }
 ],
 "metadata": {
  "kernelspec": {
   "display_name": "Python 3",
   "language": "python",
   "name": "python3"
  },
  "language_info": {
   "codemirror_mode": {
    "name": "ipython",
    "version": 3
   },
   "file_extension": ".py",
   "mimetype": "text/x-python",
   "name": "python",
   "nbconvert_exporter": "python",
   "pygments_lexer": "ipython3",
   "version": "3.6.0"
  }
 },
 "nbformat": 4,
 "nbformat_minor": 2
}
